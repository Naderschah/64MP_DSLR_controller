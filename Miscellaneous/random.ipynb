{
 "cells": [
  {
   "cell_type": "code",
   "execution_count": null,
   "metadata": {},
   "outputs": [],
   "source": [
    "import os, json\n",
    "import matplotlib.pyplot as plt\n",
    "import numpy as np"
   ]
  },
  {
   "cell_type": "markdown",
   "metadata": {},
   "source": [
    "## General Run plotting"
   ]
  },
  {
   "cell_type": "code",
   "execution_count": null,
   "metadata": {},
   "outputs": [],
   "source": [
    "dir = '/run/media/felix/3677421f-5daf-4ea7-ba33-31b09d11edcf/Images/img_3'\n",
    "\n",
    "with open(os.path.join(dir, 'meta.txt'), 'r') as t:\n",
    "    meta = t.readlines()\n",
    "\n",
    "meta = [i.strip('\\n').split(',') for i in meta]\n",
    "meta = meta[1:]\n",
    "meta = [[float(j) for j in i] for i in meta]\n",
    "\n",
    "# Time since start, x, y, z, acceleration, contrast max min mean\n",
    "fin_array = [[ i[4], i[0], i[1], i[2], i[3], i[5], i[6], i[7] ] for i in meta]\n",
    "fin_array = np.array(fin_array)"
   ]
  },
  {
   "cell_type": "code",
   "execution_count": null,
   "metadata": {},
   "outputs": [],
   "source": [
    "# Plot acceleration \n",
    "plt.plot([i for i in range(len(fin_array))], fin_array[4])"
   ]
  },
  {
   "cell_type": "code",
   "execution_count": null,
   "metadata": {},
   "outputs": [],
   "source": [
    "# Plot contrast statistics\n",
    "plt.plot([i for i in range(len(fin_array))], fin_array[5], label='max')\n",
    "plt.plot([i for i in range(len(fin_array))], fin_array[5], label='min')\n",
    "plt.plot([i for i in range(len(fin_array))], fin_array[5], label='mean')\n",
    "\n",
    "plt.legend()\n",
    "plt.grid()\n",
    "plt.show()"
   ]
  },
  {
   "cell_type": "markdown",
   "metadata": {},
   "source": [
    "## Testing acceleration vs time since move"
   ]
  },
  {
   "cell_type": "code",
   "execution_count": 2,
   "metadata": {},
   "outputs": [
    {
     "data": {
      "text/plain": [
       "<module 'numpy' from '/nix/store/5zy3djr0nqwml5k36kgsdmsahr9sc7r5-python3-3.11.8-env/lib/python3.11/site-packages/numpy/__init__.py'>"
      ]
     },
     "execution_count": 2,
     "metadata": {},
     "output_type": "execute_result"
    }
   ],
   "source": [
    "with open('TimingAndAcceleration.json', 'r') as f:\n",
    "    timing = json.reads(f)"
   ]
  },
  {
   "cell_type": "code",
   "execution_count": null,
   "metadata": {},
   "outputs": [],
   "source": [
    "# First x\n",
    "\n",
    "dat = timing['x']\n",
    "for key in dat:\n",
    "    plt.plot(np.transpose(np.array(dat[key])),label=str(key))\n",
    "plt.legend()\n",
    "plt.grid()\n",
    "\n",
    "plt.show()"
   ]
  },
  {
   "cell_type": "code",
   "execution_count": null,
   "metadata": {},
   "outputs": [],
   "source": [
    "dat = timing['y']\n",
    "for key in dat:\n",
    "    plt.plot(np.transpose(np.array(dat[key])),label=str(key))\n",
    "plt.legend()\n",
    "plt.grid()\n",
    "\n",
    "plt.show()"
   ]
  }
 ],
 "metadata": {
  "kernelspec": {
   "display_name": "Python 3 (ipykernel)",
   "language": "python",
   "name": "python3"
  },
  "language_info": {
   "codemirror_mode": {
    "name": "ipython",
    "version": 3
   },
   "file_extension": ".py",
   "mimetype": "text/x-python",
   "name": "python",
   "nbconvert_exporter": "python",
   "pygments_lexer": "ipython3",
   "version": "3.11.8"
  }
 },
 "nbformat": 4,
 "nbformat_minor": 2
}
